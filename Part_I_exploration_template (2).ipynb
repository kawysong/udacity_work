{
 "cells": [
  {
   "cell_type": "markdown",
   "metadata": {},
   "source": [
    "# Part I - Loan Data Exploration\n",
    "## by Kimberly Gatti\n",
    "\n",
    "## Introduction\n",
    "> This data set contains 113,937 loans with 81 variables on each loan, including loan amount, borrower rate (or interest rate), current loan status, borrower income, and many others.  \n",
    "\n",
    "\n",
    "\n",
    "## Preliminary Wrangling\n"
   ]
  },
  {
   "cell_type": "code",
   "execution_count": 34,
   "metadata": {},
   "outputs": [],
   "source": [
    "# import all packages and set plots to be embedded inline\n",
    "import numpy as np\n",
    "import pandas as pd\n",
    "import matplotlib.pyplot as plt\n",
    "import seaborn as sb\n",
    "\n",
    "%matplotlib inline"
   ]
  },
  {
   "cell_type": "code",
   "execution_count": 35,
   "metadata": {},
   "outputs": [
    {
     "name": "stderr",
     "output_type": "stream",
     "text": [
      "/opt/conda/lib/python3.6/site-packages/IPython/core/interactiveshell.py:2785: DtypeWarning: Columns (21,22,48) have mixed types. Specify dtype option on import or set low_memory=False.\n",
      "  interactivity=interactivity, compiler=compiler, result=result)\n"
     ]
    }
   ],
   "source": [
    "# load in the dataset into a pandas dataframe\n",
    "df=pd.read_csv('prosperLoanData.csv')"
   ]
  },
  {
   "cell_type": "code",
   "execution_count": 36,
   "metadata": {},
   "outputs": [],
   "source": [
    "#Later in the project, I want to use the Loan Status column. This column as a number of Past Due columns by different lengths of time. I've combined them into one category.\n",
    "#make a copy of the column\n",
    "df['LoanStatus_new']=df['LoanStatus']\n",
    "\n",
    "#change the values containing Past Due to past due\n",
    "mask=df['LoanStatus_new'].str.contains(\"Past Due\")\n",
    "df.loc[mask,'LoanStatus_new']=\"Past Due\""
   ]
  },
  {
   "cell_type": "code",
   "execution_count": 37,
   "metadata": {},
   "outputs": [],
   "source": [
    "ordinal_var_dict = {'IncomeRange': ['$0','$1-24,999','$25,000-49,999','$50,000-74,999','$75,000-99,999','$100,000+','Not displayed','nan'],\n",
    "                   'LoanStatus_new': ['Current','Completed','FinalPaymentInProgress','Past Due','Chargedoff','Defaulted']}\n",
    "\n",
    "for var in ordinal_var_dict:\n",
    "    ordered_var = pd.api.types.CategoricalDtype(ordered = True,\n",
    "                                                categories = ordinal_var_dict[var])\n",
    "    df[var] = df[var].astype(ordered_var)"
   ]
  },
  {
   "cell_type": "code",
   "execution_count": 38,
   "metadata": {},
   "outputs": [],
   "source": [
    "#get rid of the spaces in some of the column names\n",
    "df.columns = [c.replace(' ', '_') for c in df.columns]"
   ]
  },
  {
   "cell_type": "code",
   "execution_count": 39,
   "metadata": {},
   "outputs": [
    {
     "name": "stdout",
     "output_type": "stream",
     "text": [
      "(85665, 82)\n",
      "ListingKey                               object\n",
      "ListingNumber                             int64\n",
      "ListingCreationDate                      object\n",
      "CreditGrade                              object\n",
      "Term                                      int64\n",
      "LoanStatus                               object\n",
      "ClosedDate                               object\n",
      "BorrowerAPR                             float64\n",
      "BorrowerRate                            float64\n",
      "LenderYield                             float64\n",
      "EstimatedEffectiveYield                 float64\n",
      "EstimatedLoss                           float64\n",
      "EstimatedReturn                         float64\n",
      "ProsperRating_(numeric)                 float64\n",
      "ProsperRating_(Alpha)                    object\n",
      "ProsperScore                            float64\n",
      "ListingCategory_(numeric)               float64\n",
      "BorrowerState                            object\n",
      "Occupation                               object\n",
      "EmploymentStatus                         object\n",
      "EmploymentStatusDuration                float64\n",
      "IsBorrowerHomeowner                      object\n",
      "CurrentlyInGroup                         object\n",
      "GroupKey                                 object\n",
      "DateCreditPulled                         object\n",
      "CreditScoreRangeLower                   float64\n",
      "CreditScoreRangeUpper                   float64\n",
      "FirstRecordedCreditLine                  object\n",
      "CurrentCreditLines                      float64\n",
      "OpenCreditLines                         float64\n",
      "                                         ...   \n",
      "TotalProsperPaymentsBilled              float64\n",
      "OnTimeProsperPayments                   float64\n",
      "ProsperPaymentsLessThanOneMonthLate     float64\n",
      "ProsperPaymentsOneMonthPlusLate         float64\n",
      "ProsperPrincipalBorrowed                float64\n",
      "ProsperPrincipalOutstanding             float64\n",
      "ScorexChangeAtTimeOfListing             float64\n",
      "LoanCurrentDaysDelinquent               float64\n",
      "LoanFirstDefaultedCycleNumber           float64\n",
      "LoanMonthsSinceOrigination              float64\n",
      "LoanNumber                              float64\n",
      "LoanOriginalAmount                      float64\n",
      "LoanOriginationDate                      object\n",
      "LoanOriginationQuarter                   object\n",
      "MemberKey                                object\n",
      "MonthlyLoanPayment                      float64\n",
      "LP_CustomerPayments                     float64\n",
      "LP_CustomerPrincipalPayments            float64\n",
      "LP_InterestandFees                      float64\n",
      "LP_ServiceFees                          float64\n",
      "LP_CollectionFees                       float64\n",
      "LP_GrossPrincipalLoss                   float64\n",
      "LP_NetPrincipalLoss                     float64\n",
      "LP_NonPrincipalRecoverypayments         float64\n",
      "PercentFunded                           float64\n",
      "Recommendations                         float64\n",
      "InvestmentFromFriendsCount              float64\n",
      "InvestmentFromFriendsAmount             float64\n",
      "Investors                               float64\n",
      "LoanStatus_new                         category\n",
      "Length: 82, dtype: object\n",
      "                ListingKey  ListingNumber            ListingCreationDate  \\\n",
      "0  1021339766868145413AB3B         193129  2007-08-26 19:09:29.263000000   \n",
      "1  10273602499503308B223C1        1209647  2014-02-27 08:28:07.900000000   \n",
      "2  0EE9337825851032864889A          81716  2007-01-05 15:00:47.090000000   \n",
      "3  0EF5356002482715299901A         658116  2012-10-22 11:02:35.010000000   \n",
      "4  0F023589499656230C5E3E2         909464  2013-09-14 18:38:39.097000000   \n",
      "5  0F05359734824199381F61D        1074836  2013-12-14 08:26:37.093000000   \n",
      "6  0F0A3576754255009D63151         750899  2013-04-12 09:52:56.147000000   \n",
      "7  0F1035772717087366F9EA7         768193  2013-05-05 06:49:27.493000000   \n",
      "8  0F043596202561788EA13D5        1023355  2013-12-02 10:43:39.117000000   \n",
      "9  0F043596202561788EA13D5        1023355  2013-12-02 10:43:39.117000000   \n",
      "\n",
      "  CreditGrade  Term LoanStatus           ClosedDate  BorrowerAPR  \\\n",
      "0           C    36  Completed  2009-08-14 00:00:00      0.16516   \n",
      "1         NaN    36    Current                  NaN      0.12016   \n",
      "2          HR    36  Completed  2009-12-17 00:00:00      0.28269   \n",
      "3         NaN    36    Current                  NaN      0.12528   \n",
      "4         NaN    36    Current                  NaN      0.24614   \n",
      "5         NaN    60    Current                  NaN      0.15425   \n",
      "6         NaN    36    Current                  NaN      0.31032   \n",
      "7         NaN    36    Current                  NaN      0.23939   \n",
      "8         NaN    36    Current                  NaN      0.07620   \n",
      "9         NaN    36    Current                  NaN      0.07620   \n",
      "\n",
      "   BorrowerRate  LenderYield      ...        LP_CollectionFees  \\\n",
      "0        0.1580       0.1380      ...                      0.0   \n",
      "1        0.0920       0.0820      ...                      0.0   \n",
      "2        0.2750       0.2400      ...                      0.0   \n",
      "3        0.0974       0.0874      ...                      0.0   \n",
      "4        0.2085       0.1985      ...                      0.0   \n",
      "5        0.1314       0.1214      ...                      0.0   \n",
      "6        0.2712       0.2612      ...                      0.0   \n",
      "7        0.2019       0.1919      ...                      0.0   \n",
      "8        0.0629       0.0529      ...                      0.0   \n",
      "9        0.0629       0.0529      ...                      0.0   \n",
      "\n",
      "   LP_GrossPrincipalLoss  LP_NetPrincipalLoss  \\\n",
      "0                    0.0                  0.0   \n",
      "1                    0.0                  0.0   \n",
      "2                    0.0                  0.0   \n",
      "3                    0.0                  0.0   \n",
      "4                    0.0                  0.0   \n",
      "5                    0.0                  0.0   \n",
      "6                    0.0                  0.0   \n",
      "7                    0.0                  0.0   \n",
      "8                    0.0                  0.0   \n",
      "9                    0.0                  0.0   \n",
      "\n",
      "   LP_NonPrincipalRecoverypayments PercentFunded  Recommendations  \\\n",
      "0                              0.0           1.0              0.0   \n",
      "1                              0.0           1.0              0.0   \n",
      "2                              0.0           1.0              0.0   \n",
      "3                              0.0           1.0              0.0   \n",
      "4                              0.0           1.0              0.0   \n",
      "5                              0.0           1.0              0.0   \n",
      "6                              0.0           1.0              0.0   \n",
      "7                              0.0           1.0              0.0   \n",
      "8                              0.0           1.0              0.0   \n",
      "9                              0.0           1.0              0.0   \n",
      "\n",
      "   InvestmentFromFriendsCount InvestmentFromFriendsAmount Investors  \\\n",
      "0                         0.0                         0.0     258.0   \n",
      "1                         0.0                         0.0       1.0   \n",
      "2                         0.0                         0.0      41.0   \n",
      "3                         0.0                         0.0     158.0   \n",
      "4                         0.0                         0.0      20.0   \n",
      "5                         0.0                         0.0       1.0   \n",
      "6                         0.0                         0.0       1.0   \n",
      "7                         0.0                         0.0       1.0   \n",
      "8                         0.0                         0.0       1.0   \n",
      "9                         0.0                         0.0       1.0   \n",
      "\n",
      "  LoanStatus_new  \n",
      "0      Completed  \n",
      "1        Current  \n",
      "2      Completed  \n",
      "3        Current  \n",
      "4        Current  \n",
      "5        Current  \n",
      "6        Current  \n",
      "7        Current  \n",
      "8        Current  \n",
      "9        Current  \n",
      "\n",
      "[10 rows x 82 columns]\n"
     ]
    }
   ],
   "source": [
    "# high-level overview of data shape and composition\n",
    "print(df.shape)\n",
    "print(df.dtypes)\n",
    "print(df.head(10))"
   ]
  },
  {
   "cell_type": "code",
   "execution_count": 40,
   "metadata": {},
   "outputs": [
    {
     "data": {
      "text/plain": [
       "count    85665.000000\n",
       "mean         0.192524\n",
       "std          0.074836\n",
       "min          0.000000\n",
       "25%          0.133400\n",
       "50%          0.183000\n",
       "75%          0.250000\n",
       "max          0.497500\n",
       "Name: BorrowerRate, dtype: float64"
      ]
     },
     "execution_count": 40,
     "metadata": {},
     "output_type": "execute_result"
    }
   ],
   "source": [
    "df.BorrowerRate.describe()"
   ]
  },
  {
   "cell_type": "code",
   "execution_count": 41,
   "metadata": {},
   "outputs": [
    {
     "data": {
      "text/plain": [
       "Current                   42575\n",
       "Completed                 28650\n",
       "Chargedoff                 8982\n",
       "Defaulted                  3750\n",
       "Past Due (1-15 days)        607\n",
       "Past Due (31-60 days)       268\n",
       "Past Due (61-90 days)       232\n",
       "Past Due (91-120 days)      220\n",
       "Past Due (16-30 days)       201\n",
       "FinalPaymentInProgress      163\n",
       "Past Due (>120 days)         14\n",
       "Cancelled                     3\n",
       "Name: LoanStatus, dtype: int64"
      ]
     },
     "execution_count": 41,
     "metadata": {},
     "output_type": "execute_result"
    }
   ],
   "source": [
    "df.LoanStatus.value_counts()"
   ]
  },
  {
   "cell_type": "code",
   "execution_count": null,
   "metadata": {},
   "outputs": [],
   "source": []
  },
  {
   "cell_type": "code",
   "execution_count": null,
   "metadata": {},
   "outputs": [],
   "source": []
  },
  {
   "cell_type": "markdown",
   "metadata": {},
   "source": [
    "### What is the structure of your dataset?\n",
    "\n",
    "> There are 85,665 detailed loans in this dataset and 81 columns. That is alot of columns! Many are numeric but some are categorical, like Loan Status, Borrower State, Listing Category, Occupation, and Employment status. The columns break down into two parts, Borrower information and Loan information\n",
    "\n",
    "### What is/are the main feature(s) of interest in your dataset?\n",
    "\n",
    "> I'm interested in exploring if there are any key indicators that affect the interest rate of a loan. \n",
    "\n",
    "### What features in the dataset do you think will help support your investigation into your feature(s) of interest?\n",
    "\n",
    "> There are so many records that appear to have been collected that narrowing it down to just a few will be necessary.  I assume that the income range will affect the interest rate. I would also assume that the relationship between previous delinquencies, on-time payments, and credit score will have a high correlation to the resulting interest rate. I'm curious about the effect of Listing Category and whether something so important yet optional as adoption for example would lend itself to a higher interest rate. An added curiosity would be to decide whether the higher the interest rate, the higher the default rate.  "
   ]
  },
  {
   "cell_type": "code",
   "execution_count": null,
   "metadata": {},
   "outputs": [],
   "source": []
  },
  {
   "cell_type": "markdown",
   "metadata": {},
   "source": [
    "## Univariate Exploration\n",
    "\n",
    "> Let's start with looking at the main variable of curiousity: interest rate\n",
    "\n",
    "\n",
    "\n",
    ">**Rubric Tip**: Use the \"Question-Visualization-Observations\" framework  throughout the exploration. This framework involves **asking a question from the data, creating a visualization to find answers, and then recording observations after each visualisation.** \n"
   ]
  },
  {
   "cell_type": "code",
   "execution_count": 42,
   "metadata": {},
   "outputs": [
    {
     "data": {
      "image/png": "[encoded data removed]",
      "text/plain": [
       "<matplotlib.figure.Figure at 0x7f00cefa0320>"
      ]
     },
     "metadata": {
      "needs_background": "light"
     },
     "output_type": "display_data"
    }
   ],
   "source": [
    "# start with a standard-scaled plot of Interest rate\n",
    "binsize = .01\n",
    "bins = np.arange(0, df['BorrowerRate'].max()+binsize, binsize)\n",
    "\n",
    "plt.figure(figsize=[8, 5])\n",
    "plt.hist(data = df, x = 'BorrowerRate',bins=bins)\n",
    "plt.xlabel('Interest Rate')\n",
    "plt.show()"
   ]
  },
  {
   "cell_type": "markdown",
   "metadata": {},
   "source": [
    ">The feature that stands out the most is the spike around 0.32. This curve has two modes but I expected something more of a normal curve. There is certainly some outliers to the right of the data and the range being 0.5 and the Q4 covering .25 of that indicates that we are skewed right. \n",
    "\n",
    ">Let's look at the first factor to consider with interest rates: Income"
   ]
  },
  {
   "cell_type": "code",
   "execution_count": 43,
   "metadata": {},
   "outputs": [
    {
     "data": {
      "image/png": "[encoded data removed]",
      "text/plain": [
       "<matplotlib.figure.Figure at 0x7f00d1780128>"
      ]
     },
     "metadata": {
      "needs_background": "light"
     },
     "output_type": "display_data"
    }
   ],
   "source": [
    "#plot of income range\n",
    "\n",
    "default_color = sb.color_palette()[0]\n",
    "sb.countplot(data = df, x = 'IncomeRange',color = default_color);\n",
    "plt.xticks(rotation=90);"
   ]
  },
  {
   "cell_type": "code",
   "execution_count": null,
   "metadata": {},
   "outputs": [],
   "source": []
  },
  {
   "cell_type": "code",
   "execution_count": 44,
   "metadata": {},
   "outputs": [
    {
     "data": {
      "text/plain": [
       "(0, 25)"
      ]
     },
     "execution_count": 44,
     "metadata": {},
     "output_type": "execute_result"
    },
    {
     "data": {
      "image/png": "[encoded data removed]",
      "text/plain": [
       "<matplotlib.figure.Figure at 0x7f00cefa07b8>"
      ]
     },
     "metadata": {
      "needs_background": "light"
     },
     "output_type": "display_data"
    }
   ],
   "source": [
    "#The distribution is skewed slightly to the right as well. \n",
    "#Let's next look at deliquencies. First, the deliquencies in the last 7 years\n",
    "\n",
    "plt.figure(figsize=(8,4))\n",
    "sb.countplot(data = df, x = 'DelinquenciesLast7Years',color = default_color);\n",
    "plt.xticks(rotation=90);\n",
    "plt.xlim([0, 25])\n",
    "\n",
    "#Because of how the trend continues out to about 100, I decided to just see the first 25 delinquencies so the graph was easier to read. \n",
    "#Obviously there is a significant amount of data with 0 delinquencies. \n"
   ]
  },
  {
   "cell_type": "code",
   "execution_count": 47,
   "metadata": {},
   "outputs": [
    {
     "data": {
      "image/png": "[encoded data removed]",
      "text/plain": [
       "<matplotlib.figure.Figure at 0x7f00cc74f2b0>"
      ]
     },
     "metadata": {
      "needs_background": "light"
     },
     "output_type": "display_data"
    }
   ],
   "source": [
    "#It didn't expect such a large count at 0\n",
    "#I can see the trend is decreasing as expected.\n",
    "#**Going to a log scale for the y\n",
    "plt.figure(figsize=[8, 5])\n",
    "categories = df['DelinquenciesLast7Years'].value_counts().index\n",
    "counts = df['DelinquenciesLast7Years'].value_counts().values\n",
    "plt.bar(categories, counts, width=1)\n",
    "plt.yscale('log')\n",
    "plt.xlim([0, 25])\n",
    "plt.yticks([1, 3, 10,30, 100],['1', '3','10','30','100'])\n",
    "plt.xlabel('Deliquency Last 7 Years')\n",
    "plt.show()"
   ]
  },
  {
   "cell_type": "code",
   "execution_count": null,
   "metadata": {},
   "outputs": [],
   "source": []
  },
  {
   "cell_type": "code",
   "execution_count": 48,
   "metadata": {},
   "outputs": [
    {
     "data": {
      "text/plain": [
       "<Container object of 123 artists>"
      ]
     },
     "execution_count": 48,
     "metadata": {},
     "output_type": "execute_result"
    },
    {
     "data": {
      "image/png": "[encoded data removed]",
      "text/plain": [
       "<matplotlib.figure.Figure at 0x7f00d1600f60>"
      ]
     },
     "metadata": {
      "needs_background": "light"
     },
     "output_type": "display_data"
    }
   ],
   "source": [
    "#Next we can look at On Time Prosper Payments\n",
    "#I'm interested in this to see if there is any correlation between interest rate and on time payments after the loan is made.\n",
    "\n",
    "plt.figure(figsize=[8, 5])\n",
    "\n",
    "categories = df['OnTimeProsperPayments'].value_counts().index\n",
    "counts = df['OnTimeProsperPayments'].value_counts().values\n",
    "plt.bar(categories, counts, width=1)"
   ]
  },
  {
   "cell_type": "code",
   "execution_count": 49,
   "metadata": {},
   "outputs": [
    {
     "data": {
      "text/plain": [
       "<Container object of 3 artists>"
      ]
     },
     "execution_count": 49,
     "metadata": {},
     "output_type": "execute_result"
    },
    {
     "data": {
      "image/png": "[encoded data removed]",
      "text/plain": [
       "<matplotlib.figure.Figure at 0x7f00cc48f208>"
      ]
     },
     "metadata": {
      "needs_background": "light"
     },
     "output_type": "display_data"
    }
   ],
   "source": [
    "#I didn't expect this to drop off so quickly with ontime payments.I'm assuming the spike at 10 and 36 are due to the terminating of a loan interval but I would have expected another spike at 60. \n",
    "#lets explore that.\n",
    "#let's look at loan term\n",
    "plt.figure(figsize=[8, 5])\n",
    "\n",
    "categories = df['Term'].value_counts().index\n",
    "counts = df['Term'].value_counts().values\n",
    "plt.bar(categories, counts, width=1)"
   ]
  },
  {
   "cell_type": "code",
   "execution_count": 50,
   "metadata": {},
   "outputs": [],
   "source": [
    "#Yes, the spikes in the spikes of on-time-payments correspond to the terms set on the loans:12,36,and 60"
   ]
  },
  {
   "cell_type": "code",
   "execution_count": null,
   "metadata": {},
   "outputs": [],
   "source": []
  },
  {
   "cell_type": "code",
   "execution_count": null,
   "metadata": {},
   "outputs": [],
   "source": []
  },
  {
   "cell_type": "code",
   "execution_count": null,
   "metadata": {},
   "outputs": [],
   "source": []
  },
  {
   "cell_type": "code",
   "execution_count": 51,
   "metadata": {},
   "outputs": [
    {
     "data": {
      "image/png": "[encoded data removed]",
      "text/plain": [
       "<matplotlib.figure.Figure at 0x7f00cc56a390>"
      ]
     },
     "metadata": {
      "needs_background": "light"
     },
     "output_type": "display_data"
    }
   ],
   "source": [
    "#credit score. I'm using the upper limit. \n",
    "plt.figure(figsize=(8,4))\n",
    "sb.countplot(data = df, x = 'CreditScoreRangeUpper',color = default_color);\n",
    "plt.xticks(rotation=90);\n",
    "#plt.xlim([0, 25])"
   ]
  },
  {
   "cell_type": "code",
   "execution_count": null,
   "metadata": {},
   "outputs": [],
   "source": []
  },
  {
   "cell_type": "code",
   "execution_count": 52,
   "metadata": {},
   "outputs": [
    {
     "data": {
      "image/png": "[encoded data removed]",
      "text/plain": [
       "<matplotlib.figure.Figure at 0x7f00cc520f28>"
      ]
     },
     "metadata": {
      "needs_background": "light"
     },
     "output_type": "display_data"
    }
   ],
   "source": [
    "#I just as easily could use the lower credit score or the average which appears to be about the same. \n",
    "plt.figure(figsize=(8,4))\n",
    "sb.countplot(data = df, x = 'CreditScoreRangeLower',color = default_color);\n",
    "plt.xticks(rotation=90);\n",
    "#plt.xlim([0, 25])"
   ]
  },
  {
   "cell_type": "code",
   "execution_count": 53,
   "metadata": {},
   "outputs": [],
   "source": [
    "#This is interesting that this a normal distribution when the actual Interest rate offered had a spike. "
   ]
  },
  {
   "cell_type": "code",
   "execution_count": 54,
   "metadata": {},
   "outputs": [
    {
     "data": {
      "text/plain": [
       "<Container object of 21 artists>"
      ]
     },
     "execution_count": 54,
     "metadata": {},
     "output_type": "execute_result"
    },
    {
     "data": {
      "image/png": "[encoded data removed]",
      "text/plain": [
       "<matplotlib.figure.Figure at 0x7f00d155c320>"
      ]
     },
     "metadata": {
      "needs_background": "light"
     },
     "output_type": "display_data"
    }
   ],
   "source": [
    "#Interested in Listing Category \n",
    "\n",
    "categories = df['ListingCategory_(numeric)'].value_counts().index\n",
    "counts = df['ListingCategory_(numeric)'].value_counts().values\n",
    "plt.bar(categories, counts, width=1)\n",
    "\n",
    "\n"
   ]
  },
  {
   "cell_type": "code",
   "execution_count": 55,
   "metadata": {},
   "outputs": [],
   "source": [
    "#I expected these to be somewhat randomly distributed with a few taking most of the data. \n",
    "#1 corresponds to debt consolidation, the other spike at 7 corresponds to \"other\""
   ]
  },
  {
   "cell_type": "code",
   "execution_count": 56,
   "metadata": {},
   "outputs": [
    {
     "data": {
      "text/plain": [
       "<Container object of 2000 artists>"
      ]
     },
     "execution_count": 56,
     "metadata": {},
     "output_type": "execute_result"
    },
    {
     "data": {
      "image/png": "[encoded data removed]",
      "text/plain": [
       "<matplotlib.figure.Figure at 0x7f00d15136a0>"
      ]
     },
     "metadata": {
      "needs_background": "light"
     },
     "output_type": "display_data"
    }
   ],
   "source": [
    "#Loan Amount: \n",
    "\n",
    "categories = df['LoanOriginalAmount'].value_counts().index\n",
    "counts = df['LoanOriginalAmount'].value_counts().values\n",
    "plt.bar(categories, counts, width=500)"
   ]
  },
  {
   "cell_type": "code",
   "execution_count": 57,
   "metadata": {},
   "outputs": [
    {
     "data": {
      "text/plain": [
       "count    85664.000000\n",
       "mean      8338.683344\n",
       "std       6240.574963\n",
       "min       1000.000000\n",
       "25%       4000.000000\n",
       "50%       6500.000000\n",
       "75%      12000.000000\n",
       "max      35000.000000\n",
       "Name: LoanOriginalAmount, dtype: float64"
      ]
     },
     "execution_count": 57,
     "metadata": {},
     "output_type": "execute_result"
    }
   ],
   "source": [
    "#It definitely makes sense that the spikes are happening at multiples of $5000\n",
    "df.LoanOriginalAmount.describe()"
   ]
  },
  {
   "cell_type": "code",
   "execution_count": 58,
   "metadata": {},
   "outputs": [],
   "source": [
    "#Original Loan amount: spikes at the multiples of $5000, median value $6500, Mean $8338 Q3-$12000\n",
    "#Loans are generally smaller than I was thinking when I started this data project. I was thinking there would be house loans and car loans for big amounts.Looking at the category graph earlier, I realize I just had the wrong impression\n",
    "\n",
    "\n"
   ]
  },
  {
   "cell_type": "code",
   "execution_count": 59,
   "metadata": {},
   "outputs": [],
   "source": [
    "#Next I want to look at loan status."
   ]
  },
  {
   "cell_type": "code",
   "execution_count": null,
   "metadata": {},
   "outputs": [],
   "source": []
  },
  {
   "cell_type": "code",
   "execution_count": 60,
   "metadata": {},
   "outputs": [
    {
     "data": {
      "image/png": "[encoded data removed]",
      "text/plain": [
       "<matplotlib.figure.Figure at 0x7f00d16359e8>"
      ]
     },
     "metadata": {
      "needs_background": "light"
     },
     "output_type": "display_data"
    }
   ],
   "source": [
    "df['LoanStatus_new'].value_counts().sort_index().plot.bar(color = default_color,edgecolor='black',figsize=[14,6],rot=0,width=0.8);"
   ]
  },
  {
   "cell_type": "markdown",
   "metadata": {},
   "source": []
  },
  {
   "cell_type": "code",
   "execution_count": null,
   "metadata": {},
   "outputs": [],
   "source": []
  },
  {
   "cell_type": "markdown",
   "metadata": {},
   "source": [
    "### Discuss the distribution(s) of your variable(s) of interest. Were there any unusual points? Did you need to perform any transformations?\n",
    "\n",
    ">Interest Rate:skewed right with a spike at 3.2\n",
    "\n",
    ">Income range: skewed right\n",
    "\n",
    ">Delinquencies in the last 7 years: huge intial value then decreasing.  Needed to do a log transformation of the y-axis\n",
    "\n",
    ">On time Payments:skewed right with a few spikes. Corresponds with the amount of the loans\n",
    "\n",
    ">Credit Score Range Upper:normal distribution\n",
    "\n",
    ">Listing Category: Relatively random\n",
    "\n",
    ">Original Loan amount: spikes at the multiples of $5000, median value $6500, Mean $8338 Q3-$12000\n",
    "\n",
    ">Loan status:Highest is the current and then the completed status\n",
    "\n",
    "\n",
    "\n",
    "### Of the features you investigated, were there any unusual distributions? Did you perform any operations on the data to tidy, adjust, or change the form of the data? If so, why did you do this?\n",
    "\n",
    ">I didn't expect the spikes in the loan amounts graph but of course it makes sense now that I think about it.Same with the on-time payment spikes at the 12,36,and 60 values. I really didn't anticipate the spike in the interest rate graph and still don't know why there is that spike. Hopefully my investigation might bring clarity.\n",
    "\n",
    "> One wrangling adjustment was that I had to eliminate the spaces in columns to get the Listing Categories to graph. I replaced them with underscores so that the code would be able to read it. "
   ]
  },
  {
   "cell_type": "markdown",
   "metadata": {},
   "source": [
    "## Bivariate Exploration\n",
    "\n",
    "> In this section, investigate relationships between pairs of variables in your\n",
    "data. Make sure the variables that you cover here have been introduced in some\n",
    "fashion in the previous section (univariate exploration)."
   ]
  },
  {
   "cell_type": "code",
   "execution_count": 61,
   "metadata": {},
   "outputs": [],
   "source": [
    "numeric_vars = ['BorrowerRate', 'CreditScoreRangeUpper', 'LoanOriginalAmount']\n",
    "categoric_vars = ['IncomeRange', 'DelinquenciesLast7Years', 'OnTimeProsperPayments','ListingCategory','LoanStatus']"
   ]
  },
  {
   "cell_type": "code",
   "execution_count": 62,
   "metadata": {},
   "outputs": [
    {
     "data": {
      "image/png": "[encoded data removed]",
      "text/plain": [
       "<matplotlib.figure.Figure at 0x7f00d161cd30>"
      ]
     },
     "metadata": {
      "needs_background": "light"
     },
     "output_type": "display_data"
    }
   ],
   "source": [
    "# correlation plot\n",
    "plt.figure(figsize = [8, 5])\n",
    "sb.heatmap(df[numeric_vars].corr(), annot = True, fmt = '.3f',\n",
    "           cmap = 'vlag_r', center = 0)\n",
    "plt.show()"
   ]
  },
  {
   "cell_type": "code",
   "execution_count": 63,
   "metadata": {},
   "outputs": [],
   "source": [
    "#looks like the relationship between Interest Rate and Credit Score might be interesting to look at more closely\n"
   ]
  },
  {
   "cell_type": "code",
   "execution_count": 64,
   "metadata": {},
   "outputs": [
    {
     "ename": "ValueError",
     "evalue": "max must be larger than min in range parameter.",
     "output_type": "error",
     "traceback": [
      "\u001b[0;31m---------------------------------------------------------------------------\u001b[0m",
      "\u001b[0;31mValueError\u001b[0m                                Traceback (most recent call last)",
      "\u001b[0;32m<ipython-input-64-cae6a74552d7>\u001b[0m in \u001b[0;36m<module>\u001b[0;34m()\u001b[0m\n\u001b[1;32m      1\u001b[0m \u001b[0mg\u001b[0m \u001b[0;34m=\u001b[0m \u001b[0msb\u001b[0m\u001b[0;34m.\u001b[0m\u001b[0mPairGrid\u001b[0m\u001b[0;34m(\u001b[0m\u001b[0mdata\u001b[0m \u001b[0;34m=\u001b[0m \u001b[0mdf\u001b[0m\u001b[0;34m,\u001b[0m \u001b[0mvars\u001b[0m \u001b[0;34m=\u001b[0m \u001b[0;34m[\u001b[0m\u001b[0;34m'BorrowerRate'\u001b[0m\u001b[0;34m,\u001b[0m \u001b[0;34m'CreditScoreRangeUpper'\u001b[0m\u001b[0;34m,\u001b[0m \u001b[0;34m'LoanOriginalAmount'\u001b[0m\u001b[0;34m]\u001b[0m\u001b[0;34m)\u001b[0m\u001b[0;34m\u001b[0m\u001b[0m\n\u001b[0;32m----> 2\u001b[0;31m \u001b[0mg\u001b[0m\u001b[0;34m.\u001b[0m\u001b[0mmap_diag\u001b[0m\u001b[0;34m(\u001b[0m\u001b[0mplt\u001b[0m\u001b[0;34m.\u001b[0m\u001b[0mhist\u001b[0m\u001b[0;34m)\u001b[0m\u001b[0;34m\u001b[0m\u001b[0m\n\u001b[0m\u001b[1;32m      3\u001b[0m \u001b[0mg\u001b[0m\u001b[0;34m.\u001b[0m\u001b[0mmap_offdiag\u001b[0m\u001b[0;34m(\u001b[0m\u001b[0mplt\u001b[0m\u001b[0;34m.\u001b[0m\u001b[0mscatter\u001b[0m\u001b[0;34m)\u001b[0m\u001b[0;34m;\u001b[0m\u001b[0;34m\u001b[0m\u001b[0m\n\u001b[1;32m      4\u001b[0m \u001b[0;34m\u001b[0m\u001b[0m\n",
      "\u001b[0;32m/opt/conda/lib/python3.6/site-packages/seaborn/axisgrid.py\u001b[0m in \u001b[0;36mmap_diag\u001b[0;34m(self, func, **kwargs)\u001b[0m\n\u001b[1;32m   1363\u001b[0m                     \u001b[0mfunc\u001b[0m\u001b[0;34m(\u001b[0m\u001b[0mvals\u001b[0m\u001b[0;34m,\u001b[0m \u001b[0mcolor\u001b[0m\u001b[0;34m=\u001b[0m\u001b[0mcolor\u001b[0m\u001b[0;34m,\u001b[0m \u001b[0;34m**\u001b[0m\u001b[0mkwargs\u001b[0m\u001b[0;34m)\u001b[0m\u001b[0;34m\u001b[0m\u001b[0m\n\u001b[1;32m   1364\u001b[0m                 \u001b[0;32melse\u001b[0m\u001b[0;34m:\u001b[0m\u001b[0;34m\u001b[0m\u001b[0m\n\u001b[0;32m-> 1365\u001b[0;31m                     \u001b[0mfunc\u001b[0m\u001b[0;34m(\u001b[0m\u001b[0mvals\u001b[0m\u001b[0;34m,\u001b[0m \u001b[0mcolor\u001b[0m\u001b[0;34m=\u001b[0m\u001b[0mcolor\u001b[0m\u001b[0;34m,\u001b[0m \u001b[0mhisttype\u001b[0m\u001b[0;34m=\u001b[0m\u001b[0;34m\"barstacked\"\u001b[0m\u001b[0;34m,\u001b[0m \u001b[0;34m**\u001b[0m\u001b[0mkwargs\u001b[0m\u001b[0;34m)\u001b[0m\u001b[0;34m\u001b[0m\u001b[0m\n\u001b[0m\u001b[1;32m   1366\u001b[0m \u001b[0;34m\u001b[0m\u001b[0m\n\u001b[1;32m   1367\u001b[0m             \u001b[0;32melse\u001b[0m\u001b[0;34m:\u001b[0m\u001b[0;34m\u001b[0m\u001b[0m\n",
      "\u001b[0;32m/opt/conda/lib/python3.6/site-packages/matplotlib/pyplot.py\u001b[0m in \u001b[0;36mhist\u001b[0;34m(x, bins, range, density, weights, cumulative, bottom, histtype, align, orientation, rwidth, log, color, label, stacked, normed, hold, data, **kwargs)\u001b[0m\n\u001b[1;32m   3002\u001b[0m                       \u001b[0mhisttype\u001b[0m\u001b[0;34m=\u001b[0m\u001b[0mhisttype\u001b[0m\u001b[0;34m,\u001b[0m \u001b[0malign\u001b[0m\u001b[0;34m=\u001b[0m\u001b[0malign\u001b[0m\u001b[0;34m,\u001b[0m \u001b[0morientation\u001b[0m\u001b[0;34m=\u001b[0m\u001b[0morientation\u001b[0m\u001b[0;34m,\u001b[0m\u001b[0;34m\u001b[0m\u001b[0m\n\u001b[1;32m   3003\u001b[0m                       \u001b[0mrwidth\u001b[0m\u001b[0;34m=\u001b[0m\u001b[0mrwidth\u001b[0m\u001b[0;34m,\u001b[0m \u001b[0mlog\u001b[0m\u001b[0;34m=\u001b[0m\u001b[0mlog\u001b[0m\u001b[0;34m,\u001b[0m \u001b[0mcolor\u001b[0m\u001b[0;34m=\u001b[0m\u001b[0mcolor\u001b[0m\u001b[0;34m,\u001b[0m \u001b[0mlabel\u001b[0m\u001b[0;34m=\u001b[0m\u001b[0mlabel\u001b[0m\u001b[0;34m,\u001b[0m\u001b[0;34m\u001b[0m\u001b[0m\n\u001b[0;32m-> 3004\u001b[0;31m                       stacked=stacked, normed=normed, data=data, **kwargs)\n\u001b[0m\u001b[1;32m   3005\u001b[0m     \u001b[0;32mfinally\u001b[0m\u001b[0;34m:\u001b[0m\u001b[0;34m\u001b[0m\u001b[0m\n\u001b[1;32m   3006\u001b[0m         \u001b[0max\u001b[0m\u001b[0;34m.\u001b[0m\u001b[0m_hold\u001b[0m \u001b[0;34m=\u001b[0m \u001b[0mwashold\u001b[0m\u001b[0;34m\u001b[0m\u001b[0m\n",
      "\u001b[0;32m/opt/conda/lib/python3.6/site-packages/matplotlib/__init__.py\u001b[0m in \u001b[0;36minner\u001b[0;34m(ax, *args, **kwargs)\u001b[0m\n\u001b[1;32m   1708\u001b[0m                     warnings.warn(msg % (label_namer, func.__name__),\n\u001b[1;32m   1709\u001b[0m                                   RuntimeWarning, stacklevel=2)\n\u001b[0;32m-> 1710\u001b[0;31m             \u001b[0;32mreturn\u001b[0m \u001b[0mfunc\u001b[0m\u001b[0;34m(\u001b[0m\u001b[0max\u001b[0m\u001b[0;34m,\u001b[0m \u001b[0;34m*\u001b[0m\u001b[0margs\u001b[0m\u001b[0;34m,\u001b[0m \u001b[0;34m**\u001b[0m\u001b[0mkwargs\u001b[0m\u001b[0;34m)\u001b[0m\u001b[0;34m\u001b[0m\u001b[0m\n\u001b[0m\u001b[1;32m   1711\u001b[0m         \u001b[0mpre_doc\u001b[0m \u001b[0;34m=\u001b[0m \u001b[0minner\u001b[0m\u001b[0;34m.\u001b[0m\u001b[0m__doc__\u001b[0m\u001b[0;34m\u001b[0m\u001b[0m\n\u001b[1;32m   1712\u001b[0m         \u001b[0;32mif\u001b[0m \u001b[0mpre_doc\u001b[0m \u001b[0;32mis\u001b[0m \u001b[0;32mNone\u001b[0m\u001b[0;34m:\u001b[0m\u001b[0;34m\u001b[0m\u001b[0m\n",
      "\u001b[0;32m/opt/conda/lib/python3.6/site-packages/matplotlib/axes/_axes.py\u001b[0m in \u001b[0;36mhist\u001b[0;34m(***failed resolving arguments***)\u001b[0m\n\u001b[1;32m   6205\u001b[0m             \u001b[0;31m# this will automatically overwrite bins,\u001b[0m\u001b[0;34m\u001b[0m\u001b[0;34m\u001b[0m\u001b[0m\n\u001b[1;32m   6206\u001b[0m             \u001b[0;31m# so that each histogram uses the same bins\u001b[0m\u001b[0;34m\u001b[0m\u001b[0;34m\u001b[0m\u001b[0m\n\u001b[0;32m-> 6207\u001b[0;31m             \u001b[0mm\u001b[0m\u001b[0;34m,\u001b[0m \u001b[0mbins\u001b[0m \u001b[0;34m=\u001b[0m \u001b[0mnp\u001b[0m\u001b[0;34m.\u001b[0m\u001b[0mhistogram\u001b[0m\u001b[0;34m(\u001b[0m\u001b[0mx\u001b[0m\u001b[0;34m[\u001b[0m\u001b[0mi\u001b[0m\u001b[0;34m]\u001b[0m\u001b[0;34m,\u001b[0m \u001b[0mbins\u001b[0m\u001b[0;34m,\u001b[0m \u001b[0mweights\u001b[0m\u001b[0;34m=\u001b[0m\u001b[0mw\u001b[0m\u001b[0;34m[\u001b[0m\u001b[0mi\u001b[0m\u001b[0;34m]\u001b[0m\u001b[0;34m,\u001b[0m \u001b[0;34m**\u001b[0m\u001b[0mhist_kwargs\u001b[0m\u001b[0;34m)\u001b[0m\u001b[0;34m\u001b[0m\u001b[0m\n\u001b[0m\u001b[1;32m   6208\u001b[0m             \u001b[0mm\u001b[0m \u001b[0;34m=\u001b[0m \u001b[0mm\u001b[0m\u001b[0;34m.\u001b[0m\u001b[0mastype\u001b[0m\u001b[0;34m(\u001b[0m\u001b[0mfloat\u001b[0m\u001b[0;34m)\u001b[0m  \u001b[0;31m# causes problems later if it's an int\u001b[0m\u001b[0;34m\u001b[0m\u001b[0m\n\u001b[1;32m   6209\u001b[0m             \u001b[0;32mif\u001b[0m \u001b[0mmlast\u001b[0m \u001b[0;32mis\u001b[0m \u001b[0;32mNone\u001b[0m\u001b[0;34m:\u001b[0m\u001b[0;34m\u001b[0m\u001b[0m\n",
      "\u001b[0;32m/opt/conda/lib/python3.6/site-packages/numpy/lib/function_base.py\u001b[0m in \u001b[0;36mhistogram\u001b[0;34m(a, bins, range, normed, weights, density)\u001b[0m\n\u001b[1;32m    664\u001b[0m     \u001b[0;32mif\u001b[0m \u001b[0mmn\u001b[0m \u001b[0;34m>\u001b[0m \u001b[0mmx\u001b[0m\u001b[0;34m:\u001b[0m\u001b[0;34m\u001b[0m\u001b[0m\n\u001b[1;32m    665\u001b[0m         raise ValueError(\n\u001b[0;32m--> 666\u001b[0;31m             'max must be larger than min in range parameter.')\n\u001b[0m\u001b[1;32m    667\u001b[0m     \u001b[0;32mif\u001b[0m \u001b[0;32mnot\u001b[0m \u001b[0mnp\u001b[0m\u001b[0;34m.\u001b[0m\u001b[0mall\u001b[0m\u001b[0;34m(\u001b[0m\u001b[0mnp\u001b[0m\u001b[0;34m.\u001b[0m\u001b[0misfinite\u001b[0m\u001b[0;34m(\u001b[0m\u001b[0;34m[\u001b[0m\u001b[0mmn\u001b[0m\u001b[0;34m,\u001b[0m \u001b[0mmx\u001b[0m\u001b[0;34m]\u001b[0m\u001b[0;34m)\u001b[0m\u001b[0;34m)\u001b[0m\u001b[0;34m:\u001b[0m\u001b[0;34m\u001b[0m\u001b[0m\n\u001b[1;32m    668\u001b[0m         raise ValueError(\n",
      "\u001b[0;31mValueError\u001b[0m: max must be larger than min in range parameter."
     ]
    },
    {
     "data": {
      "image/png": "[encoded data removed]",
      "text/plain": [
       "<matplotlib.figure.Figure at 0x7f00cc7cc9b0>"
      ]
     },
     "metadata": {
      "needs_background": "light"
     },
     "output_type": "display_data"
    }
   ],
   "source": [
    "g = sb.PairGrid(data = df, vars = ['BorrowerRate', 'CreditScoreRangeUpper', 'LoanOriginalAmount'])\n",
    "g.map_diag(plt.hist)\n",
    "g.map_offdiag(plt.scatter);\n",
    "\n",
    "\n"
   ]
  },
  {
   "cell_type": "code",
   "execution_count": null,
   "metadata": {},
   "outputs": [],
   "source": []
  },
  {
   "cell_type": "code",
   "execution_count": null,
   "metadata": {},
   "outputs": [],
   "source": []
  },
  {
   "cell_type": "markdown",
   "metadata": {},
   "source": [
    "### Talk about some of the relationships you observed in this part of the investigation. How did the feature(s) of interest vary with other features in the dataset?\n",
    "\n",
    "> Your answer here!\n",
    "\n",
    "### Did you observe any interesting relationships between the other features (not the main feature(s) of interest)?\n",
    "\n",
    "> Your answer here!"
   ]
  },
  {
   "cell_type": "markdown",
   "metadata": {},
   "source": [
    "## Multivariate Exploration\n",
    "\n",
    "> Create plots of three or more variables to investigate your data even\n",
    "further. Make sure that your investigations are justified, and follow from\n",
    "your work in the previous sections."
   ]
  },
  {
   "cell_type": "code",
   "execution_count": null,
   "metadata": {},
   "outputs": [],
   "source": []
  },
  {
   "cell_type": "markdown",
   "metadata": {},
   "source": [
    "### Talk about some of the relationships you observed in this part of the investigation. Were there features that strengthened each other in terms of looking at your feature(s) of interest?\n",
    "\n",
    "> Your answer here!\n",
    "\n",
    "### Were there any interesting or surprising interactions between features?\n",
    "\n",
    "> Your answer here!"
   ]
  },
  {
   "cell_type": "markdown",
   "metadata": {},
   "source": [
    "## Conclusions\n",
    ">You can write a summary of the main findings and reflect on the steps taken during the data exploration.\n"
   ]
  },
  {
   "cell_type": "markdown",
   "metadata": {},
   "source": [
    "\n",
    "> Remove all Tips mentioned above, before you convert this notebook to PDF/HTML\n",
    "\n",
    "\n",
    "> At the end of your report, make sure that you export the notebook as an\n",
    "html file from the `File > Download as... > HTML or PDF` menu. Make sure you keep\n",
    "track of where the exported file goes, so you can put it in the same folder\n",
    "as this notebook for project submission. Also, make sure you remove all of\n",
    "the quote-formatted guide notes like this one before you finish your report!\n",
    "\n"
   ]
  },
  {
   "cell_type": "code",
   "execution_count": null,
   "metadata": {},
   "outputs": [],
   "source": [
    " #Now let's look at on-time payments\n",
    "binsize = 10\n",
    "bins = np.arange(0, df['OnTimeProsperPayments'].max()+binsize, binsize)\n",
    "\n",
    "\n",
    "plt.figure(figsize=[8, 5])\n",
    "plt.hist(data = df, x = 'OnTimeProsperPayments', bins = bins)\n",
    "plt.xlabel('On Time Prosper Payments')\n",
    "plt.xticks(rotation=90)\n",
    "plt.show()"
   ]
  }
 ],
 "metadata": {
  "kernelspec": {
   "display_name": "Python 3",
   "language": "python",
   "name": "python3"
  },
  "language_info": {
   "codemirror_mode": {
    "name": "ipython",
    "version": 3
   },
   "file_extension": ".py",
   "mimetype": "text/x-python",
   "name": "python",
   "nbconvert_exporter": "python",
   "pygments_lexer": "ipython3",
   "version": "3.6.3"
  }
 },
 "nbformat": 4,
 "nbformat_minor": 2
}
